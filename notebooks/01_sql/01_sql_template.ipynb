{
 "cells": [
  {
   "cell_type": "markdown",
   "id": "b7b3b50a",
   "metadata": {},
   "source": [
    "# 📘 SQL and Relational Databases\n",
    "\n",
    "This notebook is part of the 'SQL and NoSQL Databases' module in my Data Analysis program. It includes notes, queries, and exercises related to relational databases using SQL."
   ]
  },
  {
   "cell_type": "markdown",
   "id": "d9626e8d",
   "metadata": {},
   "source": [
    "## 🧠 Objectives\n",
    "- Understand relational database concepts\n",
    "- Practice SQL queries: SELECT, WHERE, JOIN, GROUP BY, etc.\n",
    "- Explore real-world datasets using SQL\n",
    "- Use SQL through Python (via sqlite3 or SQLAlchemy)"
   ]
  },
  {
   "cell_type": "markdown",
   "id": "60a4d64a",
   "metadata": {},
   "source": [
    "## 🛠️ Tools and Setup\n",
    "- SQLite / PostgreSQL\n",
    "- DB Browser for SQLite (GUI)\n",
    "- Python: `sqlite3`, `SQLAlchemy`\n",
    "- Jupyter Notebook for running queries and documenting work"
   ]
  },
  {
   "cell_type": "code",
   "execution_count": null,
   "id": "2c70ffcb",
   "metadata": {},
   "outputs": [],
   "source": [
    "# Example: Create an in-memory SQLite database\n",
    "import sqlite3\n",
    "conn = sqlite3.connect(':memory:')\n",
    "cursor = conn.cursor()\n",
    "\n",
    "# Create sample table\n",
    "cursor.execute('''CREATE TABLE students (id INTEGER PRIMARY KEY, name TEXT, grade INTEGER)''')\n",
    "\n",
    "# Insert data\n",
    "cursor.executemany('INSERT INTO students (name, grade) VALUES (?, ?)', [\n",
    "    ('Alice', 90),\n",
    "    ('Bob', 85),\n",
    "    ('Charlie', 78)\n",
    "])\n",
    "\n",
    "# Query data\n",
    "cursor.execute('SELECT * FROM students')\n",
    "rows = cursor.fetchall()\n",
    "for row in rows:\n",
    "    print(row)"
   ]
  },
  {
   "cell_type": "markdown",
   "id": "d0a669f8",
   "metadata": {},
   "source": [
    "## 📌 Notes\n",
    "Use this notebook to:\n",
    "- Document your class exercises\n",
    "- Explore public datasets using SQL\n",
    "- Include screenshots of ERDs (Entity Relationship Diagrams) in the `/images` folder if needed"
   ]
  },
  {
   "cell_type": "markdown",
   "id": "3689cda1",
   "metadata": {},
   "source": [
    "## ✅ Summary\n",
    "Summarize what you learned in this notebook. What concepts are clear? What do you need to revisit?\n"
   ]
  }
 ],
 "metadata": {
  "kernelspec": {
   "display_name": "Python 3",
   "language": "python",
   "name": "python3"
  }
 },
 "nbformat": 4,
 "nbformat_minor": 5
}
